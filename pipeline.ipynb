{
 "cells": [
  {
   "cell_type": "code",
   "execution_count": 1,
   "id": "50b19361",
   "metadata": {},
   "outputs": [
    {
     "name": "stdout",
     "output_type": "stream",
     "text": [
      "/project/fubon-demo/kaggle-house-prices\n"
     ]
    }
   ],
   "source": [
    "!pwd"
   ]
  },
  {
   "cell_type": "markdown",
   "id": "41b65fae",
   "metadata": {},
   "source": [
    "## Step 1: Add PROJECT_PATH to your environment."
   ]
  },
  {
   "cell_type": "code",
   "execution_count": 2,
   "id": "3eb216b9",
   "metadata": {},
   "outputs": [],
   "source": [
    "import os\n",
    "\n",
    "# Setting the environment variable PROJECT_PATH\n",
    "os.environ['PROJECT_PATH'] = '/project/fubon-demo/kaggle-house-prices'\n"
   ]
  },
  {
   "cell_type": "code",
   "execution_count": 3,
   "id": "241fc580",
   "metadata": {},
   "outputs": [
    {
     "name": "stdout",
     "output_type": "stream",
     "text": [
      "PROJECT_PATH=/project/fubon-demo/kaggle-house-prices\n"
     ]
    }
   ],
   "source": [
    "!env | grep 'PROJECT_PATH'"
   ]
  },
  {
   "cell_type": "markdown",
   "id": "232a77f1",
   "metadata": {},
   "source": [
    "## Step 2: Install the python package."
   ]
  },
  {
   "cell_type": "code",
   "execution_count": 4,
   "id": "aec3b9e7",
   "metadata": {},
   "outputs": [
    {
     "name": "stdout",
     "output_type": "stream",
     "text": [
      "Requirement already satisfied: scikit-learn==1.3.2 in /opt/conda/lib/python3.8/site-packages (from -r requirements.txt (line 1)) (1.3.2)\n",
      "Requirement already satisfied: pandas==2.0.3 in /opt/conda/lib/python3.8/site-packages (from -r requirements.txt (line 2)) (2.0.3)\n",
      "Requirement already satisfied: numpy==1.24.4 in /opt/conda/lib/python3.8/site-packages (from -r requirements.txt (line 3)) (1.24.4)\n",
      "Requirement already satisfied: threadpoolctl>=2.0.0 in /opt/conda/lib/python3.8/site-packages (from scikit-learn==1.3.2->-r requirements.txt (line 1)) (3.3.0)\n",
      "Requirement already satisfied: joblib>=1.1.1 in /opt/conda/lib/python3.8/site-packages (from scikit-learn==1.3.2->-r requirements.txt (line 1)) (1.3.2)\n",
      "Requirement already satisfied: scipy>=1.5.0 in /opt/conda/lib/python3.8/site-packages (from scikit-learn==1.3.2->-r requirements.txt (line 1)) (1.10.1)\n",
      "Requirement already satisfied: python-dateutil>=2.8.2 in /opt/conda/lib/python3.8/site-packages (from pandas==2.0.3->-r requirements.txt (line 2)) (2.8.2)\n",
      "Requirement already satisfied: tzdata>=2022.1 in /opt/conda/lib/python3.8/site-packages (from pandas==2.0.3->-r requirements.txt (line 2)) (2024.1)\n",
      "Requirement already satisfied: pytz>=2020.1 in /opt/conda/lib/python3.8/site-packages (from pandas==2.0.3->-r requirements.txt (line 2)) (2022.2.1)\n",
      "Requirement already satisfied: six>=1.5 in /opt/conda/lib/python3.8/site-packages (from python-dateutil>=2.8.2->pandas==2.0.3->-r requirements.txt (line 2)) (1.16.0)\n"
     ]
    }
   ],
   "source": [
    "!pip3 install -r requirements.txt"
   ]
  },
  {
   "cell_type": "markdown",
   "id": "32071e99",
   "metadata": {},
   "source": [
    "## Step 3: Change the config yaml file.\n"
   ]
  },
  {
   "cell_type": "code",
   "execution_count": null,
   "id": "d66bbadd",
   "metadata": {},
   "outputs": [],
   "source": [
    "#Skip"
   ]
  },
  {
   "cell_type": "markdown",
   "id": "001ac693",
   "metadata": {},
   "source": [
    "## Step 4: Run the service pipeline.\n"
   ]
  },
  {
   "cell_type": "code",
   "execution_count": 5,
   "id": "f9a0030b",
   "metadata": {},
   "outputs": [
    {
     "name": "stdout",
     "output_type": "stream",
     "text": [
      "Wed, 21 Feb 2024 11:23:41 [INFO][data_etl_service][load_data]Finish load training data and testing data\n",
      "Wed, 21 Feb 2024 11:23:41 [INFO][data_etl_service][load_data]Length of training data: 1460\n",
      "Wed, 21 Feb 2024 11:23:41 [INFO][data_etl_service][load_data]Length of testing data: 1459\n",
      "Wed, 21 Feb 2024 11:23:41 [INFO][data_etl_app][extract]=== Finish extract the data. ===\n",
      "Wed, 21 Feb 2024 11:23:41 [INFO][data_etl_service][remove_feature]Remove columns: SalePrice\n",
      "Wed, 21 Feb 2024 11:23:41 [INFO][data_etl_service][feature_selection]Finish select data feature.\n",
      "Wed, 21 Feb 2024 11:23:41 [INFO][data_etl_service][feature_selection]Delete feature: ['Alley', 'MasVnrType', 'FireplaceQu', 'PoolQC', 'Fence', 'MiscFeature']\n",
      "Wed, 21 Feb 2024 11:23:41 [INFO][data_etl_service][feature_selection]numerical_features: ['Id', 'MSSubClass', 'LotFrontage', 'LotArea', 'OverallQual', 'OverallCond', 'YearBuilt', 'YearRemodAdd', 'MasVnrArea', 'BsmtFinSF1', 'BsmtFinSF2', 'BsmtUnfSF', 'TotalBsmtSF', '1stFlrSF', '2ndFlrSF', 'LowQualFinSF', 'GrLivArea', 'BsmtFullBath', 'BsmtHalfBath', 'FullBath', 'HalfBath', 'BedroomAbvGr', 'KitchenAbvGr', 'TotRmsAbvGrd', 'Fireplaces', 'GarageYrBlt', 'GarageCars', 'GarageArea', 'WoodDeckSF', 'OpenPorchSF', 'EnclosedPorch', '3SsnPorch', 'ScreenPorch', 'PoolArea', 'MiscVal', 'MoSold', 'YrSold']\n",
      "Wed, 21 Feb 2024 11:23:41 [INFO][data_etl_service][feature_selection]categorical_features: ['MSZoning', 'Street', 'LotShape', 'LandContour', 'Utilities', 'LotConfig', 'LandSlope', 'Neighborhood', 'Condition1', 'Condition2', 'BldgType', 'HouseStyle', 'RoofStyle', 'RoofMatl', 'Exterior1st', 'Exterior2nd', 'ExterQual', 'ExterCond', 'Foundation', 'BsmtQual', 'BsmtCond', 'BsmtExposure', 'BsmtFinType1', 'BsmtFinType2', 'Heating', 'HeatingQC', 'CentralAir', 'Electrical', 'KitchenQual', 'Functional', 'GarageType', 'GarageFinish', 'GarageQual', 'GarageCond', 'PavedDrive', 'SaleType', 'SaleCondition']\n",
      "Wed, 21 Feb 2024 11:23:41 [INFO][data_etl_service][get_dummies]Finish get dummy.\n",
      "Wed, 21 Feb 2024 11:23:41 [INFO][data_etl_app][transform]=== Finish transform the data. ===\n",
      "Wed, 21 Feb 2024 11:23:41 [INFO][data_etl_service][save_dataframe]Successfully save the dataframe file.\n",
      "Wed, 21 Feb 2024 11:23:41 [INFO][data_etl_service][save_label]Successfully save the label.\n",
      "Wed, 21 Feb 2024 11:23:41 [INFO][data_etl_app][load_to]=== Finish load the data to file. ===\n"
     ]
    }
   ],
   "source": [
    "! python main.py --mode etl"
   ]
  },
  {
   "cell_type": "code",
   "execution_count": 23,
   "id": "4c7b48cf",
   "metadata": {},
   "outputs": [
    {
     "name": "stdout",
     "output_type": "stream",
     "text": [
      "Wed, 21 Feb 2024 11:54:24 [INFO][train_eval_service][read_preprocess_data]Successfully read training and testing data.\n",
      "Wed, 21 Feb 2024 11:54:24 [INFO][train_eval_service][read_preprocess_label]Successfully read label file data.\n",
      "Wed, 21 Feb 2024 11:54:24 [INFO][train_eval_service][train_test_split]Successfully split the training data and validation data.\n",
      "Wed, 21 Feb 2024 11:54:24 [INFO][train_eval_service][train_test_split]shape of training data: 1387\n",
      "Wed, 21 Feb 2024 11:54:24 [INFO][train_eval_service][train_test_split]shape of validation data: 73\n",
      "Wed, 21 Feb 2024 11:54:24 [INFO][train_eval_service][linear_regression_training]Linear regression score: 0.8798902088890159\n",
      "Wed, 21 Feb 2024 11:54:24 [INFO][train_eval_service][evaluate]Score: 0.8798902088890159\n",
      "Wed, 21 Feb 2024 11:54:24 [INFO][train_eval_service][evaluate]One of the example: [893, 20, 70.0, 8414, 6, 8, 1963, 2003, 0.0, 663, 0, 396, 1059, 1068, 0, 0, 1068, 0, 1, 1, 0, 3, 1, 6, 0, 1963.0, 1, 264, 192, 0, 0, 0, 0, 0, 0, 2, 2006, False, False, False, True, False, False, True, False, False, False, True, False, False, False, True, True, False, False, False, False, False, True, True, False, False, False, False, False, False, False, False, False, False, False, False, False, False, False, False, False, False, False, False, False, True, False, False, False, False, False, False, False, True, False, False, False, False, False, False, False, False, True, False, False, False, False, False, True, False, False, False, False, False, False, True, False, False, False, False, False, False, False, False, True, False, False, False, True, False, False, False, False, False, False, False, False, False, False, False, False, True, False, False, False, False, False, False, False, False, False, False, False, False, False, False, True, False, False, False, False, False, False, False, False, False, False, False, False, True, False, False, False, False, True, False, True, False, False, False, False, False, False, False, True, False, False, False, True, False, False, False, True, False, False, True, False, False, False, False, False, False, False, False, True, False, True, False, False, False, False, False, False, False, False, True, False, True, False, False, False, False, True, False, False, False, True, False, False, False, False, False, False, True, False, True, False, False, False, False, False, True, False, False, False, False, False, True, False, False, False, False, True, False, False, True, False, False, False, False, False, False, False, False, True, False, False, False, False, True, False]\n",
      "Wed, 21 Feb 2024 11:54:24 [INFO][train_eval_service][evaluate]len: 267\n"
     ]
    }
   ],
   "source": [
    "!python main.py --mode train_eval --model lr"
   ]
  },
  {
   "cell_type": "code",
   "execution_count": null,
   "id": "55e5e6b8",
   "metadata": {},
   "outputs": [],
   "source": []
  }
 ],
 "metadata": {
  "kernelspec": {
   "display_name": "Python 3 (ipykernel)",
   "language": "python",
   "name": "python3"
  },
  "language_info": {
   "codemirror_mode": {
    "name": "ipython",
    "version": 3
   },
   "file_extension": ".py",
   "mimetype": "text/x-python",
   "name": "python",
   "nbconvert_exporter": "python",
   "pygments_lexer": "ipython3",
   "version": "3.8.5"
  }
 },
 "nbformat": 4,
 "nbformat_minor": 5
}
